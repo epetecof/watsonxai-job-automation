{
 "cells": [
  {
   "cell_type": "markdown",
   "id": "ab916fcc",
   "metadata": {},
   "source": [
    "# Manipulando Jobs do watsonx.ai através da API\n",
    "Este notebook demonstra como usar a API do watsonx.ai para criar e executar jobs. Ele fornece um guia passo a passo sobre como autenticar na API, listar jobs, criar um novo job, criar uma execução de job e recuperar o status e os logs da execução do job."
   ]
  },
  {
   "cell_type": "markdown",
   "id": "f2f619f7",
   "metadata": {},
   "source": [
    "#### Observação 1: Esse notebook foi planejado para ser executado dentro de um projeto do watsonx.ai. Grande parte dele até poderia ser executado localmente, mas algumas partes não funcionarão como planejado."
   ]
  },
  {
   "cell_type": "markdown",
   "id": "6b1cadc0",
   "metadata": {},
   "source": [
    "#### Observação 2: No repositório do GitHub desse notebook, foi disponibilizado para você um outro notebook auxiliar chamado Hello World Job. Ele será usado como exemplo para ser executado via API. Adicione-o també ao seu projeto."
   ]
  },
  {
   "cell_type": "markdown",
   "id": "dc2af814",
   "metadata": {},
   "source": [
    "## Importando Bibliotecas\n",
    "Esta seção importa as bibliotecas necessárias para o notebook. Essas bibliotecas incluem o `IAM Authenticator` e a biblioteca `requests` para fazer solicitações HTTP."
   ]
  },
  {
   "cell_type": "code",
   "execution_count": 2,
   "id": "28f92b25",
   "metadata": {
    "id": "e7f5bc38-ab19-4554-8f28-48ede31146ac"
   },
   "outputs": [],
   "source": [
    "from ibm_cloud_sdk_core import IAMTokenManager\n",
    "from ibm_cloud_sdk_core.authenticators import IAMAuthenticator, BearerTokenAuthenticator\n",
    "import requests\n",
    "import os\n",
    "import json"
   ]
  },
  {
   "cell_type": "markdown",
   "id": "5727bbcc",
   "metadata": {},
   "source": [
    "## Autenticação\n",
    "Para autenticar na API vamos precisar de uma API Key da IBM Cloud. Abaixo estão os passos para obter uma."
   ]
  },
  {
   "cell_type": "markdown",
   "id": "dedc0ad4",
   "metadata": {},
   "source": [
    "#### Vá para o seu IBM Cloud Console e navegue até \"Gerenciar\" -> \"Acesso\".\n",
    "<img title=\"Go to Manage -> Access\" alt=\"Go to Manage -> Access\" src=./images/apikey-1.png>"
   ]
  },
  {
   "cell_type": "markdown",
   "id": "32ea18f3",
   "metadata": {},
   "source": [
    "#### No menu à direita, navegue até API Keys. Crie uma nova API Key. Você pode dar a ela qualquer nome que desejar.\n",
    "<img title=\"Ir para Gerenciar -> Acesso\" alt=\"Ir para Gerenciar -> Acesso\" src=./images/apikey-2.png>"
   ]
  },
  {
   "cell_type": "markdown",
   "id": "e3399ae4",
   "metadata": {},
   "source": [
    "#### Copie sua Chave de API e cole no seu Notebook no espaço indicado abaixo. \n",
    "<img title=\"Vá para Gerenciar -> Acesso\" alt=\"Vá para Gerenciar -> Acesso\" src=./images/apikey-3.png>"
   ]
  },
  {
   "cell_type": "markdown",
   "id": "7d53a570",
   "metadata": {},
   "source": [
    "Esta seção autentica o usuário usando a usa API Key. Através do IAM Token Manager recuperamos um token de acesso que é usado para autenticar solicitações de API subsequentes."
   ]
  },
  {
   "cell_type": "code",
   "execution_count": null,
   "id": "3078d268",
   "metadata": {
    "id": "28b68437-353f-4614-9203-9ef983a5abd8"
   },
   "outputs": [],
   "source": [
    "apikey = \"SUA API KEY\"\n",
    "access_token = IAMTokenManager(\n",
    "        apikey=apikey,\n",
    "        url=\"https://iam.cloud.ibm.com/identity/token\"\n",
    ").get_token()"
   ]
  },
  {
   "cell_type": "markdown",
   "id": "444c5d82",
   "metadata": {},
   "source": [
    "## Configurando a URL da API\n",
    "Esta seção configura a URL base para a API do watsonx.ai. Esta URL é usada para construir os endpoints da API para solicitações subsequentes."
   ]
  },
  {
   "cell_type": "code",
   "execution_count": 4,
   "id": "5adc9533",
   "metadata": {
    "id": "807af734-2c97-4373-8c85-00e0f35f895c"
   },
   "outputs": [],
   "source": [
    "main_url = \"https://api.dataplatform.cloud.ibm.com\""
   ]
  },
  {
   "cell_type": "markdown",
   "id": "ae604b64",
   "metadata": {},
   "source": [
    "## Obtendo o ID de Projeto\n",
    "Esta seção recupera o ID do seu projeto pelas variáveis de ambiente. Esse ID é uma variável obrigatória na URL da API. "
   ]
  },
  {
   "cell_type": "code",
   "execution_count": null,
   "id": "1c2f260d",
   "metadata": {
    "id": "653be3f6-bda6-4d3a-a85a-31f443aa1a67"
   },
   "outputs": [],
   "source": [
    "project_id = os.getenv(\"PROJECT_ID\")"
   ]
  },
  {
   "cell_type": "markdown",
   "id": "68801c49",
   "metadata": {},
   "source": [
    "## Configurando os cabeçalhos da API\n",
    "Esta seção configura os cabeçalhos da API. Os cabeçalhos incluem o token de acesso."
   ]
  },
  {
   "cell_type": "code",
   "execution_count": 6,
   "id": "970dc818",
   "metadata": {
    "id": "d264105b-b43e-4e42-95bc-2ba764b8db53"
   },
   "outputs": [],
   "source": [
    "headers = {\n",
    "    'Authorization':'Bearer '+access_token,\n",
    "    'Content-Type': 'application/json',\n",
    "    'Accept': 'application/json'\n",
    "}"
   ]
  },
  {
   "cell_type": "markdown",
   "id": "865c7c45",
   "metadata": {},
   "source": [
    "## Listando Jobs\n",
    "Esta seção lista todos os jobs no projeto especificado. Ela faz uma requisição GET para o endpoint `/v2/jobs` e retorna uma resposta JSON contendo a lista de jobs."
   ]
  },
  {
   "cell_type": "code",
   "execution_count": 7,
   "id": "714d0d6f",
   "metadata": {
    "id": "41df8813-8b28-4be1-bd7d-ea1b790bf290"
   },
   "outputs": [
    {
     "data": {
      "text/plain": [
       "{'total_rows': 0, 'results': []}"
      ]
     },
     "execution_count": 7,
     "metadata": {},
     "output_type": "execute_result"
    }
   ],
   "source": [
    "requests.get(main_url+\"/v2/jobs?project_id=\"+project_id, headers=headers).json()"
   ]
  },
  {
   "cell_type": "markdown",
   "id": "83cc4e09-453e-4c7e-99ac-561ebeac7679",
   "metadata": {},
   "source": [
    "## Listando Notebooks\n",
    "Esta seção lista todos os notebooks no projeto especificado. Ela faz uma requisição para listar os assets do tipo 'notebook' usando a biblioteca `wslib`. Para usar a biblioteca, precisamos fazer alguns passos antes."
   ]
  },
  {
   "cell_type": "markdown",
   "id": "ec457024",
   "metadata": {},
   "source": [
    "#### Vá para a aba Gerenciar no seu projeto no watsonx.ai. No menu à esquerda, selecione Controle de Acesso.\n",
    "<img title=\"Ir para Gerenciar -> Acesso\" alt=\"Ir para Gerenciar -> Acesso\" src=./images/project-token-1.png>"
   ]
  },
  {
   "cell_type": "markdown",
   "id": "b2141f79",
   "metadata": {},
   "source": [
    "#### Crie um novo Token com a função de Editor. Você pode dar qualquer nome a ele.\n",
    "<img title=\"Crie um novo Access Token com a função de Editor. Você pode dar qualquer nome a ele.\" alt=\"Vá para Gerenciar -> Acesso\" src=./images/project-token-2.png>"
   ]
  },
  {
   "cell_type": "markdown",
   "id": "dd2cdec9",
   "metadata": {},
   "source": [
    "#### Veja o token recém-criado na lista.\n",
    "<img title=\"Ir para Gerenciar -> Acesso\" alt=\"Ir para Gerenciar -> Acesso\" src=./images/project-token-3.png>"
   ]
  },
  {
   "cell_type": "markdown",
   "id": "2a6c0d67",
   "metadata": {},
   "source": [
    "#### Adicione seu token e a biblioteca de Gerenciamento de Projetos (wslib) ao seu Notebook. O botão indicado na imagem adicionará uma nova célula com o token e o código para usá-lo.\n",
    "<img title=\"Ir para Gerenciar -> Acesso\" alt=\"Ir para Gerenciar -> Acesso\" src=./images/project-token-4.png>"
   ]
  },
  {
   "cell_type": "markdown",
   "id": "8b653b00",
   "metadata": {},
   "source": [
    "Depois de executar a célula que vai ser adicionada automaticamente ao notebook (não mostrada aqui pois contém credenciais), podemos usar a `wslib` para listar os notebooks."
   ]
  },
  {
   "cell_type": "code",
   "execution_count": null,
   "id": "83cc4e09-453e-4c7e-99ac-561ebeac7679",
   "metadata": {
    "id": "83cc4e09-453e-4c7e-99ac-561ebeac7679"
   },
   "outputs": [],
   "source": [
    "wslib.assets.list_assets(asset_type='notebook')"
   ]
  },
  {
   "cell_type": "markdown",
   "id": "a4e14ec5",
   "metadata": {},
   "source": [
    "#### Aqui você deveria ver o Notebook demonstrativo Hello World Job mencionado no início. Se você não o adicionou ainda ao seu projeto, faça isso agora e execute a célula novamente. Armazene o ID do notebook na variável abaixo."
   ]
  },
  {
   "cell_type": "code",
   "execution_count": null,
   "id": "531150d0-4ffa-4715-8a0b-531147a3336b",
   "metadata": {
    "id": "531150d0-4ffa-4715-8a0b-531147a3336b"
   },
   "outputs": [],
   "source": [
    "selected_notebook_asset_id = 'Hello World Job ID'"
   ]
  },
  {
   "cell_type": "markdown",
   "id": "0d54bf1b",
   "metadata": {},
   "source": [
    "## Criando um Job\n",
    "Esta seção cria um novo job para executar o notebook especificado, passando como input uma variável de ambiente. Ela faz uma solicitação POST para o endpoint `/v2/jobs` com um JSON contendo a configuração do job."
   ]
  },
  {
   "cell_type": "code",
   "execution_count": null,
   "id": "59aed6ae",
   "metadata": {
    "id": "acd827c6-2020-46df-9909-0a16c1041e3f"
   },
   "outputs": [],
   "source": [
    "data_job = {\n",
    "    'job': {\n",
    "        'name': 'Job API',\n",
    "        'configuration': {\n",
    "            'env_variables': ['TEST_VAR=%22Hello%22'],\n",
    "            'run_results': 'log_and_new_notebook',\n",
    "            'env_type': 'notebook'\n",
    "        },\n",
    "        'asset_ref': selected_notebook_asset_id,\n",
    "    }\n",
    "}\n",
    "\n",
    "job_response = requests.post(main_url+\"/v2/jobs?project_id=\"+project_id, headers=headers, data=json.dumps(data_job)).json()\n",
    "job_response"
   ]
  },
  {
   "cell_type": "markdown",
   "id": "ab705eb9",
   "metadata": {},
   "source": [
    "#### Salve o seu job id para nossas próximas etapas"
   ]
  },
  {
   "cell_type": "code",
   "execution_count": null,
   "id": "038f20c5-5507-4784-b617-ad4904429e1e",
   "metadata": {
    "id": "038f20c5-5507-4784-b617-ad4904429e1e"
   },
   "outputs": [],
   "source": [
    "job_id = job_response['metadata']['asset_id']"
   ]
  },
  {
   "cell_type": "markdown",
   "id": "c5dffaca-502a-415d-8b16-d50e4cc8a4bf",
   "metadata": {
    "id": "c5dffaca-502a-415d-8b16-d50e4cc8a4bf"
   },
   "source": [
    "## Salvando uma Versão do Notebook\n",
    "Esta seção cria uma nova versão (checkpoint) para o seu Notebook. Um Job precisa executar uma versão do notebook (por padrão será a mais recente, mas também pode ser uma específica). Ela faz uma solicitação POST para `/v2/notebooks/{notebook_asset_id}/versions`. Salvar uma versão do notebook também pode ser feito através da interface."
   ]
  },
  {
   "cell_type": "code",
   "execution_count": null,
   "id": "454f1b59-f0bc-47c7-8483-d678b3b1483b",
   "metadata": {
    "id": "454f1b59-f0bc-47c7-8483-d678b3b1483b"
   },
   "outputs": [],
   "source": [
    "version_response = requests.post(main_url+f\"/v2/notebooks/{selected_notebook_asset_id}/versions?project_id={project_id}\", headers=headers, data=json.dumps({})).json()\n",
    "version_response"
   ]
  },
  {
   "cell_type": "markdown",
   "id": "abda3173-bd87-4687-add6-44ec16f65ff5",
   "metadata": {
    "id": "abda3173-bd87-4687-add6-44ec16f65ff5"
   },
   "source": [
    "## Criando uma Execução de Job\n",
    "Esta seção cria uma nova execução para o job especificado. Ela faz uma solicitação POST para o endpoint `/v2/jobs/{job_id}/runs` com um JSON contendo a configuração da execução do job."
   ]
  },
  {
   "cell_type": "code",
   "execution_count": null,
   "id": "3ba431fc-126b-4105-b6d3-5b1b9e260054",
   "metadata": {
    "id": "3ba431fc-126b-4105-b6d3-5b1b9e260054"
   },
   "outputs": [],
   "source": [
    "data_run_1 = {\n",
    "    'job_run': {\n",
    "        'name': 'Job Run API',\n",
    "        # 'configuration': {\n",
    "        #     'env_variables': ['TEST_VAR=%22Hello2%22'],\n",
    "        # },\n",
    "    }\n",
    "}\n",
    "\n",
    "run_response_1 = requests.post(main_url+f\"/v2/jobs/{job_id}/runs?project_id={project_id}\", headers=headers, data=json.dumps(data_run_1)).json()\n",
    "run_response_1"
   ]
  },
  {
   "cell_type": "markdown",
   "id": "a32f3bee",
   "metadata": {},
   "source": [
    "#### Salve o ID da execução do seu trabalho para nossas próximas etapas"
   ]
  },
  {
   "cell_type": "code",
   "execution_count": null,
   "id": "7ab2c924-cb30-4b81-8b94-fc5eac3c95e0",
   "metadata": {
    "id": "7ab2c924-cb30-4b81-8b94-fc5eac3c95e0"
   },
   "outputs": [],
   "source": [
    "job_run_id = run_response_1['metadata']['asset_id']"
   ]
  },
  {
   "cell_type": "markdown",
   "id": "208adb45-e5a9-4706-82e8-58b73b89797e",
   "metadata": {
    "id": "208adb45-e5a9-4706-82e8-58b73b89797e"
   },
   "source": [
    "## Obtendo o Status da Execução do Job\n",
    "Esta seção recupera o status da execução do job. Ela faz uma solicitação GET para o endpoint `/v2/jobs/{job_id}/runs/{run_id}` e retorna uma resposta JSON contendo o status da execução do job."
   ]
  },
  {
   "cell_type": "code",
   "execution_count": null,
   "id": "69723d46-446e-4cda-ba23-be971f3d0a62",
   "metadata": {
    "id": "69723d46-446e-4cda-ba23-be971f3d0a62"
   },
   "outputs": [],
   "source": [
    "run_status = requests.get(main_url+f\"/v2/jobs/{job_id}/runs/{job_run_id}?project_id={project_id}\", headers=headers).json()\n",
    "run_status"
   ]
  },
  {
   "cell_type": "markdown",
   "id": "cbbe4313-f88c-4ff4-af50-301e64e5a5fc",
   "metadata": {
    "id": "cbbe4313-f88c-4ff4-af50-301e64e5a5fc"
   },
   "source": [
    "## Obtendo os Logs de Execução do Job\n",
    "Esta seção recupera os logs para a execução do job. Ele faz uma solicitação GET para o endpoint `/v2/jobs/{job_id}/runs/{run_id}/logs` e retorna uma resposta JSON contendo os logs de execução do job."
   ]
  },
  {
   "cell_type": "code",
   "execution_count": 30,
   "id": "7ed95fba-74f1-4f6d-8523-bb2af0c01b7f",
   "metadata": {
    "id": "7ed95fba-74f1-4f6d-8523-bb2af0c01b7f"
   },
   "outputs": [
    {
     "data": {
      "text/plain": [
       "{'results': ['', 'Cell 3:', '', '', 'Cell 5:', 'TEST_VAR: \"Hello\"', ''],\n",
       " 'total_count': 7}"
      ]
     },
     "execution_count": 30,
     "metadata": {},
     "output_type": "execute_result"
    }
   ],
   "source": [
    "requests.get(main_url+f\"/v2/jobs/{job_id}/runs/{job_run_id}/logs?project_id={project_id}\", headers=headers).json()"
   ]
  },
  {
   "cell_type": "markdown",
   "id": "f775ab85-f450-43b9-9f30-9d09cab7d70d",
   "metadata": {
    "id": "f775ab85-f450-43b9-9f30-9d09cab7d70d"
   },
   "source": [
    "## Execução de Job com variáveis de ambiente\n",
    "Esta seção cria uma nova execução de job com variáveis de ambiente. Isso sobrescreverá as variáveis que já existem na definição do job."
   ]
  },
  {
   "cell_type": "code",
   "execution_count": null,
   "id": "8c9e4453-6e4e-418c-819b-b787b0224861",
   "metadata": {
    "id": "8c9e4453-6e4e-418c-819b-b787b0224861"
   },
   "outputs": [],
   "source": [
    "data_run_2 = {\n",
    "    'job_run': {\n",
    "        'name': 'Job Run API w/ Env Var',\n",
    "        'configuration': {\n",
    "            'env_variables': ['TEST_VAR=%22Hello2%22'],\n",
    "        },\n",
    "    }\n",
    "}\n",
    "\n",
    "run_response_2 = requests.post(main_url+f\"/v2/jobs/{job_id}/runs?project_id={project_id}\", headers=headers, data=json.dumps(data_run_2)).json()\n",
    "run_response_2"
   ]
  },
  {
   "cell_type": "code",
   "execution_count": 33,
   "id": "eda39ce4-e924-43e9-9e9b-73907131bd7e",
   "metadata": {
    "id": "eda39ce4-e924-43e9-9e9b-73907131bd7e"
   },
   "outputs": [],
   "source": [
    "job_run_id = run_response_2['metadata']['asset_id']"
   ]
  },
  {
   "cell_type": "code",
   "execution_count": 34,
   "id": "dca00530-04a9-4e6d-b9ce-347c8b606e8c",
   "metadata": {
    "id": "dca00530-04a9-4e6d-b9ce-347c8b606e8c"
   },
   "outputs": [
    {
     "data": {
      "text/plain": [
       "{'results': ['', 'Cell 3:', '', '', 'Cell 5:', 'TEST_VAR: \"Hello2\"', ''],\n",
       " 'total_count': 7}"
      ]
     },
     "execution_count": 34,
     "metadata": {},
     "output_type": "execute_result"
    }
   ],
   "source": [
    "requests.get(main_url+f\"/v2/jobs/{job_id}/runs/{job_run_id}/logs?project_id={project_id}\", headers=headers).json()"
   ]
  }
 ],
 "metadata": {
  "kernelspec": {
   "display_name": "Python 3.11",
   "language": "python",
   "name": "python3"
  },
  "language_info": {
   "codemirror_mode": {
    "name": "ipython",
    "version": 3
   },
   "file_extension": ".py",
   "mimetype": "text/x-python",
   "name": "python",
   "nbconvert_exporter": "python",
   "pygments_lexer": "ipython3",
   "version": "3.11.9"
  }
 },
 "nbformat": 4,
 "nbformat_minor": 5
}
