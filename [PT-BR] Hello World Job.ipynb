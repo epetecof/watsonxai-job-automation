{
 "cells": [
  {
   "cell_type": "markdown",
   "id": "dd96e27f-9a30-43b8-8af9-05d0d1c6a6bb",
   "metadata": {},
   "source": [
    "# Hello World Job Notebook\n",
    "\n",
    "Esse é um notebook demonstrativo que executaremos através de um job, passando variáveis de ambiente como entrada."
   ]
  },
  {
   "cell_type": "markdown",
   "id": "971ecd05-6698-45ea-a36e-c4a06bf8f100",
   "metadata": {},
   "source": [
    "## Importando bibliotecas\n",
    "\n",
    "Esta seção importa as bibliotecas necessárias para acessar as variáveis de ambiente."
   ]
  },
  {
   "cell_type": "code",
   "execution_count": 2,
   "id": "dd96e27f-9a30-43b8-8af9-05d0d1c6a6bb",
   "metadata": {},
   "outputs": [],
   "source": [
    "from os import environ"
   ]
  },
  {
   "cell_type": "markdown",
   "id": "ba340cfe-f50d-4608-9bea-641328dc783a",
   "metadata": {},
   "source": [
    "## Imprimindo o valor da variável\n",
    "\n",
    "Esta seção verifica se a variável de ambiente `TEST_VAR` existe e imprime o seu valor. Isso aparecerá ao final da execução do Job."
   ]
  },
  {
   "cell_type": "code",
   "execution_count": 3,
   "id": "971ecd05-6698-45ea-a36e-c4a06bf8f100",
   "metadata": {},
   "outputs": [],
   "source": [
    "if environ.get('TEST_VAR') != None:\n",
    "    print(\"TEST_VAR: \"+environ.get('TEST_VAR'))"
   ]
  }
 ],
 "metadata": {
  "kernelspec": {
   "display_name": "Python 3.11",
   "language": "python",
   "name": "python3"
  },
  "language_info": {
   "codemirror_mode": {
    "name": "ipython",
    "version": 3
   },
   "file_extension": ".py",
   "mimetype": "text/x-python",
   "name": "python",
   "nbconvert_exporter": "python",
   "pygments_lexer": "ipython3",
   "version": "3.11.9"
  }
 },
 "nbformat": 4,
 "nbformat_minor": 4
}
